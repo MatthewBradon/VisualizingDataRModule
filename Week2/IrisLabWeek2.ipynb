{
 "cells": [
  {
   "cell_type": "code",
   "execution_count": null,
   "metadata": {
    "vscode": {
     "languageId": "r"
    }
   },
   "outputs": [],
   "source": [
    "# Install necessary libraries if needed\n",
    "if (!requireNamespace(\"tidyverse\", quietly = TRUE)) {\n",
    "  install.packages(\"tidyverse\")\n",
    "}\n",
    "if (!requireNamespace(\"avocado\", quietly = TRUE)) {\n",
    "  install.packages(\"avocado\")\n",
    "}\n",
    "if (!requireNamespace(\"zoo\", quietly = TRUE)) {\n",
    "  install.packages(\"zoo\")\n",
    "}\n",
    "if (!requireNamespace(\"treemap\", quietly = TRUE)) {\n",
    "  install.packages(\"treemap\")\n",
    "}\n",
    "\n",
    "# Load necessary packages\n",
    "library(tidyverse)\n",
    "library(avocado)\n",
    "library(zoo)\n",
    "library(treemap)\n",
    "\n",
    "# Load iris dataset\n",
    "data(iris)"
   ]
  },
  {
   "cell_type": "code",
   "execution_count": null,
   "metadata": {
    "vscode": {
     "languageId": "r"
    }
   },
   "outputs": [],
   "source": [
    "# Inspect dataset\n",
    "str(iris)\n",
    "View(iris)"
   ]
  },
  {
   "cell_type": "code",
   "execution_count": null,
   "metadata": {
    "vscode": {
     "languageId": "r"
    }
   },
   "outputs": [],
   "source": [
    "# Create a Dataframe Grouped by Species with Average Petal Length\n",
    "species_petal_length = iris %>%\n",
    "  group_by(Species) %>%\n",
    "  summarise(mean_petal_length = mean(Petal.Length))\n",
    "\n",
    "\n",
    "species_petal_length"
   ]
  },
  {
   "cell_type": "code",
   "execution_count": null,
   "metadata": {
    "vscode": {
     "languageId": "r"
    }
   },
   "outputs": [],
   "source": [
    "# Create a Bar Char \n",
    "# Using geom_bar(state=\"identity\") x=Species, y=Average Petal Length\n",
    "ggplot(species_petal_length, aes(x=Species, y=mean_petal_length)) +\n",
    "  geom_bar(stat=\"identity\", fill=\"#5858b8\") +\n",
    "  labs(title=\"Average Petal Length by Species\"\n",
    "        ,x = \"Species\"\n",
    "        ,y = \"Average Petal Length\")\n",
    "    theme_minimal()\n",
    "\n",
    "\n"
   ]
  },
  {
   "cell_type": "code",
   "execution_count": null,
   "metadata": {
    "vscode": {
     "languageId": "r"
    }
   },
   "outputs": [],
   "source": [
    "# Create a Dataframe for species count\n",
    "# Group the iris dataset by the species column and calculate the count for each species\n",
    "\n",
    "count_irises <- iris %>%\n",
    "  group_by(Species) %>%\n",
    "  summarise(count = n())\n",
    "\n",
    "count_irises"
   ]
  },
  {
   "cell_type": "code",
   "execution_count": null,
   "metadata": {
    "vscode": {
     "languageId": "r"
    }
   },
   "outputs": [],
   "source": [
    "treemap(count_irises,\n",
    "        index=\"Species\",\n",
    "        vSize=\"count\",\n",
    "        title=\"Iris Species Count\",\n",
    "        palette = \"Set3\",\n",
    "        border.col = \"black\"\n",
    ")"
   ]
  },
  {
   "cell_type": "code",
   "execution_count": null,
   "metadata": {
    "vscode": {
     "languageId": "r"
    }
   },
   "outputs": [],
   "source": [
    "# Create a new variable SepalWidthCategory to categorize Sepal.Width into 3 categories low medium high\n",
    "\n",
    "iris <- iris %>%\n",
    "    mutate(SepalWidthCategory = case_when(\n",
    "        Sepal.Width < 3.0 ~ \"low\",\n",
    "        Sepal.Width >= 3 & Sepal.Width < 3.5 ~ \"medium\",\n",
    "        Sepal.Width >= 3.5 ~ \"high\"\n",
    "    ))\n",
    "\n",
    "iris"
   ]
  },
  {
   "cell_type": "code",
   "execution_count": null,
   "metadata": {
    "vscode": {
     "languageId": "r"
    }
   },
   "outputs": [],
   "source": [
    "# Create a Dataframe for Sepal Width Category Count\n",
    "SepalWidthCategoryCount <- iris %>%\n",
    "    group_by(Species, SepalWidthCategory) %>%\n",
    "    summarise(count = n())\n",
    "\n",
    "SepalWidthCategoryCount"
   ]
  },
  {
   "cell_type": "code",
   "execution_count": null,
   "metadata": {
    "vscode": {
     "languageId": "r"
    }
   },
   "outputs": [],
   "source": [
    "# Create stacked bar chart\n",
    "ggplot(SepalWidthCategoryCount, aes(x=Species, y=count, fill=SepalWidthCategory)) +\n",
    "    geom_bar(stat=\"identity\", position=\"stack\") +\n",
    "    labs(title=\"Sepal Width Category Count by Species\",\n",
    "         x=\"Species\",\n",
    "         y=\"Count\") +\n",
    "    theme_minimal()\n"
   ]
  }
 ],
 "metadata": {
  "kernelspec": {
   "display_name": "R",
   "language": "R",
   "name": "ir"
  },
  "language_info": {
   "codemirror_mode": "r",
   "file_extension": ".r",
   "mimetype": "text/x-r-source",
   "name": "R",
   "pygments_lexer": "r",
   "version": "4.4.2"
  }
 },
 "nbformat": 4,
 "nbformat_minor": 2
}
